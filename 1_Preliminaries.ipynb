{
 "cells": [
  {
   "cell_type": "markdown",
   "metadata": {},
   "source": [
    "# Computer Vision Nanodegree\n",
    "\n",
    "## Project: Image Captioning\n",
    "\n",
    "---\n",
    "\n",
    "In this notebook, you will learn how to load and pre-process data from the [COCO dataset](http://cocodataset.org/#home). You will also design a CNN-RNN model for automatically generating image captions.\n",
    "\n",
    "Note that **any amendments that you make to this notebook will not be graded**.  However, you will use the instructions provided in **Step 3** and **Step 4** to implement your own CNN encoder and RNN decoder by making amendments to the **models.py** file provided as part of this project.  Your **models.py** file **will be graded**. \n",
    "\n",
    "Feel free to use the links below to navigate the notebook:\n",
    "- [Step 1](#step1): Explore the Data Loader\n",
    "- [Step 2](#step2): Use the Data Loader to Obtain Batches\n",
    "- [Step 3](#step3): Experiment with the CNN Encoder\n",
    "- [Step 4](#step4): Implement the RNN Decoder"
   ]
  },
  {
   "cell_type": "markdown",
   "metadata": {},
   "source": [
    "<a id='step1'></a>\n",
    "## Step 1: Explore the Data Loader\n",
    "\n",
    "We have already written a [data loader](http://pytorch.org/docs/master/data.html#torch.utils.data.DataLoader) that you can use to load the COCO dataset in batches. \n",
    "\n",
    "In the code cell below, you will initialize the data loader by using the `get_loader` function in **data_loader.py**.  \n",
    "\n",
    "> For this project, you are not permitted to change the **data_loader.py** file, which must be used as-is.\n",
    "\n",
    "The `get_loader` function takes as input a number of arguments that can be explored in **data_loader.py**.  Take the time to explore these arguments now by opening **data_loader.py** in a new window.  Most of the arguments must be left at their default values, and you are only allowed to amend the values of the arguments below:\n",
    "1. **`transform`** - an [image transform](http://pytorch.org/docs/master/torchvision/transforms.html) specifying how to pre-process the images and convert them to PyTorch tensors before using them as input to the CNN encoder.  For now, you are encouraged to keep the transform as provided in `transform_train`.  You will have the opportunity later to choose your own image transform to pre-process the COCO images.\n",
    "2. **`mode`** - one of `'train'` (loads the training data in batches) or `'test'` (for the test data). We will say that the data loader is in training or test mode, respectively.  While following the instructions in this notebook, please keep the data loader in training mode by setting `mode='train'`.\n",
    "3. **`batch_size`** - determines the batch size.  When training the model, this is number of image-caption pairs used to amend the model weights in each training step.\n",
    "4. **`vocab_threshold`** - the total number of times that a word must appear in the in the training captions before it is used as part of the vocabulary.  Words that have fewer than `vocab_threshold` occurrences in the training captions are considered unknown words. \n",
    "5. **`vocab_from_file`** - a Boolean that decides whether to load the vocabulary from file.  \n",
    "\n",
    "We will describe the `vocab_threshold` and `vocab_from_file` arguments in more detail soon.  For now, run the code cell below.  Be patient - it may take a couple of minutes to run!"
   ]
  },
  {
   "cell_type": "code",
   "execution_count": 1,
   "metadata": {
    "scrolled": true
   },
   "outputs": [
    {
     "name": "stdout",
     "output_type": "stream",
     "text": [
      "Requirement already satisfied: nltk in /home/sthenc/miniconda3/envs/cv-nd/lib/python3.6/site-packages (3.4)\r\n",
      "Requirement already satisfied: six in /home/sthenc/miniconda3/envs/cv-nd/lib/python3.6/site-packages (from nltk) (1.11.0)\r\n",
      "Requirement already satisfied: singledispatch in /home/sthenc/miniconda3/envs/cv-nd/lib/python3.6/site-packages (from nltk) (3.4.0.3)\r\n"
     ]
    },
    {
     "name": "stderr",
     "output_type": "stream",
     "text": [
      "[nltk_data] Downloading package punkt to /home/sthenc/nltk_data...\n",
      "[nltk_data]   Package punkt is already up-to-date!\n"
     ]
    }
   ],
   "source": [
    "import sys\n",
    "sys.path.append('/opt/cocoapi/PythonAPI')\n",
    "from pycocotools.coco import COCO\n",
    "!pip install nltk\n",
    "import nltk\n",
    "nltk.download('punkt')\n",
    "from data_loader import get_loader\n",
    "from torchvision import transforms\n",
    "\n",
    "# Define a transform to pre-process the training images.\n",
    "transform_train = transforms.Compose([ \n",
    "    transforms.Resize(256),                          # smaller edge of image resized to 256\n",
    "    transforms.RandomCrop(224),                      # get 224x224 crop from random location\n",
    "    transforms.RandomHorizontalFlip(),               # horizontally flip image with probability=0.5\n",
    "    transforms.ToTensor(),                           # convert the PIL Image to a tensor\n",
    "    transforms.Normalize((0.485, 0.456, 0.406),      # normalize image for pre-trained model\n",
    "                         (0.229, 0.224, 0.225))])\n",
    "\n",
    "# Set the minimum word count threshold.\n",
    "vocab_threshold = 5\n",
    "\n",
    "# Specify the batch size.\n",
    "batch_size = 10\n",
    "\n",
    "## Obtain the data loader.\n",
    "#data_loader = get_loader(transform=transform_train,\n",
    "#                         mode='train',\n",
    "#                         batch_size=batch_size,\n",
    "#                         vocab_threshold=vocab_threshold,\n",
    "#                         vocab_from_file=False)\n"
   ]
  },
  {
   "cell_type": "markdown",
   "metadata": {},
   "source": [
    "When you ran the code cell above, the data loader was stored in the variable `data_loader`.  \n",
    "\n",
    "You can access the corresponding dataset as `data_loader.dataset`.  This dataset is an instance of the `CoCoDataset` class in **data_loader.py**.  If you are unfamiliar with data loaders and datasets, you are encouraged to review [this PyTorch tutorial](http://pytorch.org/tutorials/beginner/data_loading_tutorial.html).\n",
    "\n",
    "### Exploring the `__getitem__` Method\n",
    "\n",
    "The `__getitem__` method in the `CoCoDataset` class determines how an image-caption pair is pre-processed before being incorporated into a batch.  This is true for all `Dataset` classes in PyTorch; if this is unfamiliar to you, please review [the tutorial linked above](http://pytorch.org/tutorials/beginner/data_loading_tutorial.html). \n",
    "\n",
    "When the data loader is in training mode, this method begins by first obtaining the filename (`path`) of a training image and its corresponding caption (`caption`).\n",
    "\n",
    "#### Image Pre-Processing \n",
    "\n",
    "Image pre-processing is relatively straightforward (from the `__getitem__` method in the `CoCoDataset` class):\n",
    "```python\n",
    "# Convert image to tensor and pre-process using transform\n",
    "image = Image.open(os.path.join(self.img_folder, path)).convert('RGB')\n",
    "image = self.transform(image)\n",
    "```\n",
    "After loading the image in the training folder with name `path`, the image is pre-processed using the same transform (`transform_train`) that was supplied when instantiating the data loader.  \n",
    "\n",
    "#### Caption Pre-Processing \n",
    "\n",
    "The captions also need to be pre-processed and prepped for training. In this example, for generating captions, we are aiming to create a model that predicts the next token of a sentence from previous tokens, so we turn the caption associated with any image into a list of tokenized words, before casting it to a PyTorch tensor that we can use to train the network.\n",
    "\n",
    "To understand in more detail how COCO captions are pre-processed, we'll first need to take a look at the `vocab` instance variable of the `CoCoDataset` class.  The code snippet below is pulled from the `__init__` method of the `CoCoDataset` class:\n",
    "```python\n",
    "def __init__(self, transform, mode, batch_size, vocab_threshold, vocab_file, start_word, \n",
    "        end_word, unk_word, annotations_file, vocab_from_file, img_folder):\n",
    "        ...\n",
    "        self.vocab = Vocabulary(vocab_threshold, vocab_file, start_word,\n",
    "            end_word, unk_word, annotations_file, vocab_from_file)\n",
    "        ...\n",
    "```\n",
    "From the code snippet above, you can see that `data_loader.dataset.vocab` is an instance of the `Vocabulary` class from **vocabulary.py**.  Take the time now to verify this for yourself by looking at the full code in **data_loader.py**.  \n",
    "\n",
    "We use this instance to pre-process the COCO captions (from the `__getitem__` method in the `CoCoDataset` class):\n",
    "\n",
    "```python\n",
    "# Convert caption to tensor of word ids.\n",
    "tokens = nltk.tokenize.word_tokenize(str(caption).lower())   # line 1\n",
    "caption = []                                                 # line 2\n",
    "caption.append(self.vocab(self.vocab.start_word))            # line 3\n",
    "caption.extend([self.vocab(token) for token in tokens])      # line 4\n",
    "caption.append(self.vocab(self.vocab.end_word))              # line 5\n",
    "caption = torch.Tensor(caption).long()                       # line 6\n",
    "```\n",
    "\n",
    "As you will see soon, this code converts any string-valued caption to a list of integers, before casting it to a PyTorch tensor.  To see how this code works, we'll apply it to the sample caption in the next code cell."
   ]
  },
  {
   "cell_type": "code",
   "execution_count": 2,
   "metadata": {},
   "outputs": [],
   "source": [
    "sample_caption = 'A person doing a trick on a rail while riding a skateboard.'"
   ]
  },
  {
   "cell_type": "markdown",
   "metadata": {},
   "source": [
    "In **`line 1`** of the code snippet, every letter in the caption is converted to lowercase, and the [`nltk.tokenize.word_tokenize`](http://www.nltk.org/) function is used to obtain a list of string-valued tokens.  Run the next code cell to visualize the effect on `sample_caption`."
   ]
  },
  {
   "cell_type": "code",
   "execution_count": 3,
   "metadata": {},
   "outputs": [
    {
     "name": "stdout",
     "output_type": "stream",
     "text": [
      "['a', 'person', 'doing', 'a', 'trick', 'on', 'a', 'rail', 'while', 'riding', 'a', 'skateboard', '.']\n"
     ]
    }
   ],
   "source": [
    "import nltk\n",
    "\n",
    "sample_tokens = nltk.tokenize.word_tokenize(str(sample_caption).lower())\n",
    "print(sample_tokens)"
   ]
  },
  {
   "cell_type": "markdown",
   "metadata": {},
   "source": [
    "In **`line 2`** and **`line 3`** we initialize an empty list and append an integer to mark the start of a caption.  The [paper](https://arxiv.org/pdf/1411.4555.pdf) that you are encouraged to implement uses a special start word (and a special end word, which we'll examine below) to mark the beginning (and end) of a caption.\n",
    "\n",
    "This special start word (`\"<start>\"`) is decided when instantiating the data loader and is passed as a parameter (`start_word`).  You are **required** to keep this parameter at its default value (`start_word=\"<start>\"`).\n",
    "\n",
    "As you will see below, the integer `0` is always used to mark the start of a caption."
   ]
  },
  {
   "cell_type": "code",
   "execution_count": 4,
   "metadata": {},
   "outputs": [
    {
     "ename": "NameError",
     "evalue": "name 'data_loader' is not defined",
     "output_type": "error",
     "traceback": [
      "\u001b[0;31m---------------------------------------------------------------------------\u001b[0m",
      "\u001b[0;31mNameError\u001b[0m                                 Traceback (most recent call last)",
      "\u001b[0;32m<ipython-input-4-5825166c8f99>\u001b[0m in \u001b[0;36m<module>\u001b[0;34m\u001b[0m\n\u001b[1;32m      1\u001b[0m \u001b[0msample_caption\u001b[0m \u001b[0;34m=\u001b[0m \u001b[0;34m[\u001b[0m\u001b[0;34m]\u001b[0m\u001b[0;34m\u001b[0m\u001b[0;34m\u001b[0m\u001b[0m\n\u001b[1;32m      2\u001b[0m \u001b[0;34m\u001b[0m\u001b[0m\n\u001b[0;32m----> 3\u001b[0;31m \u001b[0mstart_word\u001b[0m \u001b[0;34m=\u001b[0m \u001b[0mdata_loader\u001b[0m\u001b[0;34m.\u001b[0m\u001b[0mdataset\u001b[0m\u001b[0;34m.\u001b[0m\u001b[0mvocab\u001b[0m\u001b[0;34m.\u001b[0m\u001b[0mstart_word\u001b[0m\u001b[0;34m\u001b[0m\u001b[0;34m\u001b[0m\u001b[0m\n\u001b[0m\u001b[1;32m      4\u001b[0m \u001b[0mprint\u001b[0m\u001b[0;34m(\u001b[0m\u001b[0;34m'Special start word:'\u001b[0m\u001b[0;34m,\u001b[0m \u001b[0mstart_word\u001b[0m\u001b[0;34m)\u001b[0m\u001b[0;34m\u001b[0m\u001b[0;34m\u001b[0m\u001b[0m\n\u001b[1;32m      5\u001b[0m \u001b[0msample_caption\u001b[0m\u001b[0;34m.\u001b[0m\u001b[0mappend\u001b[0m\u001b[0;34m(\u001b[0m\u001b[0mdata_loader\u001b[0m\u001b[0;34m.\u001b[0m\u001b[0mdataset\u001b[0m\u001b[0;34m.\u001b[0m\u001b[0mvocab\u001b[0m\u001b[0;34m(\u001b[0m\u001b[0mstart_word\u001b[0m\u001b[0;34m)\u001b[0m\u001b[0;34m)\u001b[0m\u001b[0;34m\u001b[0m\u001b[0;34m\u001b[0m\u001b[0m\n",
      "\u001b[0;31mNameError\u001b[0m: name 'data_loader' is not defined"
     ]
    }
   ],
   "source": [
    "sample_caption = []\n",
    "\n",
    "start_word = data_loader.dataset.vocab.start_word\n",
    "print('Special start word:', start_word)\n",
    "sample_caption.append(data_loader.dataset.vocab(start_word))\n",
    "print(sample_caption)"
   ]
  },
  {
   "cell_type": "markdown",
   "metadata": {},
   "source": [
    "In **`line 4`**, we continue the list by adding integers that correspond to each of the tokens in the caption."
   ]
  },
  {
   "cell_type": "code",
   "execution_count": 18,
   "metadata": {},
   "outputs": [
    {
     "name": "stdout",
     "output_type": "stream",
     "text": [
      "[0, 3, 97, 748, 3, 394, 38, 3, 997, 206, 138, 3, 747, 18]\n"
     ]
    }
   ],
   "source": [
    "sample_caption.extend([data_loader.dataset.vocab(token) for token in sample_tokens])\n",
    "print(sample_caption)"
   ]
  },
  {
   "cell_type": "markdown",
   "metadata": {},
   "source": [
    "In **`line 5`**, we append a final integer to mark the end of the caption.  \n",
    "\n",
    "Identical to the case of the special start word (above), the special end word (`\"<end>\"`) is decided when instantiating the data loader and is passed as a parameter (`end_word`).  You are **required** to keep this parameter at its default value (`end_word=\"<end>\"`).\n",
    "\n",
    "As you will see below, the integer `1` is always used to  mark the end of a caption."
   ]
  },
  {
   "cell_type": "code",
   "execution_count": 19,
   "metadata": {},
   "outputs": [
    {
     "name": "stdout",
     "output_type": "stream",
     "text": [
      "Special end word: <end>\n",
      "[0, 3, 97, 748, 3, 394, 38, 3, 997, 206, 138, 3, 747, 18, 1]\n"
     ]
    }
   ],
   "source": [
    "end_word = data_loader.dataset.vocab.end_word\n",
    "print('Special end word:', end_word)\n",
    "\n",
    "sample_caption.append(data_loader.dataset.vocab(end_word))\n",
    "print(sample_caption)"
   ]
  },
  {
   "cell_type": "markdown",
   "metadata": {},
   "source": [
    "Finally, in **`line 6`**, we convert the list of integers to a PyTorch tensor and cast it to [long type](http://pytorch.org/docs/master/tensors.html#torch.Tensor.long).  You can read more about the different types of PyTorch tensors on the [website](http://pytorch.org/docs/master/tensors.html)."
   ]
  },
  {
   "cell_type": "code",
   "execution_count": 20,
   "metadata": {},
   "outputs": [
    {
     "name": "stdout",
     "output_type": "stream",
     "text": [
      "tensor([  0,   3,  97, 748,   3, 394,  38,   3, 997, 206, 138,   3, 747,  18,\n",
      "          1])\n"
     ]
    }
   ],
   "source": [
    "import torch\n",
    "\n",
    "sample_caption = torch.Tensor(sample_caption).long()\n",
    "print(sample_caption)"
   ]
  },
  {
   "cell_type": "markdown",
   "metadata": {},
   "source": [
    "And that's it!  In summary, any caption is converted to a list of tokens, with _special_ start and end tokens marking the beginning and end of the sentence:\n",
    "```\n",
    "[<start>, 'a', 'person', 'doing', 'a', 'trick', 'while', 'riding', 'a', 'skateboard', '.', <end>]\n",
    "```\n",
    "This list of tokens is then turned into a list of integers, where every distinct word in the vocabulary has an associated integer value:\n",
    "```\n",
    "[0, 3, 98, 754, 3, 396, 207, 139, 3, 753, 18, 1]\n",
    "```\n",
    "Finally, this list is converted to a PyTorch tensor.  All of the captions in the COCO dataset are pre-processed using this same procedure from **`lines 1-6`** described above.  \n",
    "\n",
    "As you saw, in order to convert a token to its corresponding integer, we call `data_loader.dataset.vocab` as a function.  The details of how this call works can be explored in the `__call__` method in the `Vocabulary` class in **vocabulary.py**.  \n",
    "\n",
    "```python\n",
    "def __call__(self, word):\n",
    "    if not word in self.word2idx:\n",
    "        return self.word2idx[self.unk_word]\n",
    "    return self.word2idx[word]\n",
    "```\n",
    "\n",
    "The `word2idx` instance variable is a Python [dictionary](https://docs.python.org/3/tutorial/datastructures.html#dictionaries) that is indexed by string-valued keys (mostly tokens obtained from training captions).  For each key, the corresponding value is the integer that the token is mapped to in the pre-processing step.\n",
    "\n",
    "Use the code cell below to view a subset of this dictionary."
   ]
  },
  {
   "cell_type": "code",
   "execution_count": 21,
   "metadata": {},
   "outputs": [
    {
     "data": {
      "text/plain": [
       "{'<start>': 0,\n",
       " '<end>': 1,\n",
       " '<unk>': 2,\n",
       " 'a': 3,\n",
       " 'very': 4,\n",
       " 'clean': 5,\n",
       " 'and': 6,\n",
       " 'well': 7,\n",
       " 'decorated': 8,\n",
       " 'empty': 9}"
      ]
     },
     "execution_count": 21,
     "metadata": {},
     "output_type": "execute_result"
    }
   ],
   "source": [
    "# Preview the word2idx dictionary.\n",
    "dict(list(data_loader.dataset.vocab.word2idx.items())[:10])"
   ]
  },
  {
   "cell_type": "markdown",
   "metadata": {},
   "source": [
    "We also print the total number of keys."
   ]
  },
  {
   "cell_type": "code",
   "execution_count": 22,
   "metadata": {},
   "outputs": [
    {
     "name": "stdout",
     "output_type": "stream",
     "text": [
      "Total number of tokens in vocabulary: 7525\n"
     ]
    }
   ],
   "source": [
    "# Print the total number of keys in the word2idx dictionary.\n",
    "print('Total number of tokens in vocabulary:', len(data_loader.dataset.vocab))"
   ]
  },
  {
   "cell_type": "markdown",
   "metadata": {},
   "source": [
    "As you will see if you examine the code in **vocabulary.py**, the `word2idx` dictionary is created by looping over the captions in the training dataset.  If a token appears no less than `vocab_threshold` times in the training set, then it is added as a key to the dictionary and assigned a corresponding unique integer.  You will have the option later to amend the `vocab_threshold` argument when instantiating your data loader.  Note that in general, **smaller** values for `vocab_threshold` yield a **larger** number of tokens in the vocabulary.  You are encouraged to check this for yourself in the next code cell by decreasing the value of `vocab_threshold` before creating a new data loader.  "
   ]
  },
  {
   "cell_type": "code",
   "execution_count": 5,
   "metadata": {},
   "outputs": [
    {
     "name": "stdout",
     "output_type": "stream",
     "text": [
      "loading annotations into memory...\n",
      "Done (t=0.66s)\n",
      "creating index...\n",
      "index created!\n",
      "[0/414113] Tokenizing captions...\n",
      "[100000/414113] Tokenizing captions...\n",
      "[200000/414113] Tokenizing captions...\n",
      "[300000/414113] Tokenizing captions...\n",
      "[400000/414113] Tokenizing captions...\n",
      "loading annotations into memory...\n"
     ]
    },
    {
     "name": "stderr",
     "output_type": "stream",
     "text": [
      "\r",
      "  0%|          | 0/414113 [00:00<?, ?it/s]"
     ]
    },
    {
     "name": "stdout",
     "output_type": "stream",
     "text": [
      "Done (t=0.52s)\n",
      "creating index...\n",
      "index created!\n",
      "Obtaining caption lengths...\n"
     ]
    },
    {
     "name": "stderr",
     "output_type": "stream",
     "text": [
      "100%|██████████| 414113/414113 [00:44<00:00, 9393.89it/s]\n"
     ]
    }
   ],
   "source": [
    "# Modify the minimum word count threshold.\n",
    "vocab_threshold = 5\n",
    "\n",
    "# Obtain the data loader.\n",
    "data_loader = get_loader(transform=transform_train,\n",
    "                         mode='train',\n",
    "                         batch_size=batch_size,\n",
    "                         vocab_threshold=vocab_threshold,\n",
    "                         vocab_from_file=False)"
   ]
  },
  {
   "cell_type": "code",
   "execution_count": 6,
   "metadata": {},
   "outputs": [
    {
     "name": "stdout",
     "output_type": "stream",
     "text": [
      "Total number of tokens in vocabulary: 8856\n"
     ]
    }
   ],
   "source": [
    "# Print the total number of keys in the word2idx dictionary.\n",
    "print('Total number of tokens in vocabulary:', len(data_loader.dataset.vocab))"
   ]
  },
  {
   "cell_type": "markdown",
   "metadata": {},
   "source": [
    "There are also a few special keys in the `word2idx` dictionary.  You are already familiar with the special start word (`\"<start>\"`) and special end word (`\"<end>\"`).  There is one more special token, corresponding to unknown words (`\"<unk>\"`).  All tokens that don't appear anywhere in the `word2idx` dictionary are considered unknown words.  In the pre-processing step, any unknown tokens are mapped to the integer `2`."
   ]
  },
  {
   "cell_type": "code",
   "execution_count": 7,
   "metadata": {},
   "outputs": [
    {
     "name": "stdout",
     "output_type": "stream",
     "text": [
      "Special unknown word: <unk>\n",
      "All unknown words are mapped to this integer: 2\n"
     ]
    }
   ],
   "source": [
    "unk_word = data_loader.dataset.vocab.unk_word\n",
    "print('Special unknown word:', unk_word)\n",
    "\n",
    "print('All unknown words are mapped to this integer:', data_loader.dataset.vocab(unk_word))"
   ]
  },
  {
   "cell_type": "markdown",
   "metadata": {},
   "source": [
    "Check this for yourself below, by pre-processing the provided nonsense words that never appear in the training captions. "
   ]
  },
  {
   "cell_type": "code",
   "execution_count": 27,
   "metadata": {},
   "outputs": [
    {
     "name": "stdout",
     "output_type": "stream",
     "text": [
      "2\n",
      "2\n"
     ]
    }
   ],
   "source": [
    "print(data_loader.dataset.vocab('jfkafejw'))\n",
    "print(data_loader.dataset.vocab('ieowoqjf'))"
   ]
  },
  {
   "cell_type": "markdown",
   "metadata": {},
   "source": [
    "The final thing to mention is the `vocab_from_file` argument that is supplied when creating a data loader.  To understand this argument, note that when you create a new data loader, the vocabulary (`data_loader.dataset.vocab`) is saved as a [pickle](https://docs.python.org/3/library/pickle.html) file in the project folder, with filename `vocab.pkl`.\n",
    "\n",
    "If you are still tweaking the value of the `vocab_threshold` argument, you **must** set `vocab_from_file=False` to have your changes take effect.  \n",
    "\n",
    "But once you are happy with the value that you have chosen for the `vocab_threshold` argument, you need only run the data loader *one more time* with your chosen `vocab_threshold` to save the new vocabulary to file.  Then, you can henceforth set `vocab_from_file=True` to load the vocabulary from file and speed the instantiation of the data loader.  Note that building the vocabulary from scratch is the most time-consuming part of instantiating the data loader, and so you are strongly encouraged to set `vocab_from_file=True` as soon as you are able.\n",
    "\n",
    "Note that if `vocab_from_file=True`, then any supplied argument for `vocab_threshold` when instantiating the data loader is completely ignored."
   ]
  },
  {
   "cell_type": "code",
   "execution_count": 28,
   "metadata": {},
   "outputs": [
    {
     "name": "stdout",
     "output_type": "stream",
     "text": [
      "Vocabulary successfully loaded from vocab.pkl file!\n",
      "loading annotations into memory...\n",
      "Done (t=0.52s)\n",
      "creating index...\n"
     ]
    },
    {
     "name": "stderr",
     "output_type": "stream",
     "text": [
      "\n",
      "  0%|          | 0/414113 [00:00<?, ?it/s]\u001b[A\n",
      "  0%|          | 876/414113 [00:00<00:47, 8759.05it/s]\u001b[A\n"
     ]
    },
    {
     "name": "stdout",
     "output_type": "stream",
     "text": [
      "index created!\n",
      "Obtaining caption lengths...\n"
     ]
    },
    {
     "name": "stderr",
     "output_type": "stream",
     "text": [
      "  0%|          | 1840/414113 [00:00<00:45, 9004.44it/s]\u001b[A\n",
      "  1%|          | 2653/414113 [00:00<00:47, 8720.26it/s]\u001b[A\n",
      "  1%|          | 3567/414113 [00:00<00:46, 8839.55it/s]\u001b[A\n",
      "  1%|          | 4491/414113 [00:00<00:45, 8954.75it/s]\u001b[A\n",
      "  1%|▏         | 5412/414113 [00:00<00:45, 9027.80it/s]\u001b[A\n",
      "  2%|▏         | 6363/414113 [00:00<00:44, 9166.91it/s]\u001b[A\n",
      "  2%|▏         | 7314/414113 [00:00<00:43, 9266.83it/s]\u001b[A\n",
      "  2%|▏         | 8192/414113 [00:00<00:44, 9089.81it/s]\u001b[A\n",
      "  2%|▏         | 9074/414113 [00:01<00:44, 9006.63it/s]\u001b[A\n",
      "  2%|▏         | 9956/414113 [00:01<00:45, 8948.59it/s]\u001b[A\n",
      "  3%|▎         | 10897/414113 [00:01<00:44, 9081.86it/s]\u001b[A\n",
      "  3%|▎         | 11826/414113 [00:01<00:44, 9142.48it/s]\u001b[A\n",
      "  3%|▎         | 12748/414113 [00:01<00:43, 9164.40it/s]\u001b[A\n",
      "  3%|▎         | 13733/414113 [00:01<00:42, 9359.20it/s]\u001b[A\n",
      "  4%|▎         | 14689/414113 [00:01<00:42, 9416.64it/s]\u001b[A\n",
      "  4%|▍         | 15674/414113 [00:01<00:41, 9536.90it/s]\u001b[A\n",
      "  4%|▍         | 16657/414113 [00:01<00:41, 9621.85it/s]\u001b[A\n",
      "  4%|▍         | 17630/414113 [00:01<00:41, 9651.74it/s]\u001b[A\n",
      "  4%|▍         | 18604/414113 [00:02<00:40, 9676.01it/s]\u001b[A\n",
      "  5%|▍         | 19572/414113 [00:02<00:40, 9640.97it/s]\u001b[A\n",
      "  5%|▍         | 20538/414113 [00:02<00:40, 9646.23it/s]\u001b[A\n",
      "  5%|▌         | 21503/414113 [00:02<00:40, 9624.19it/s]\u001b[A\n",
      "  5%|▌         | 22472/414113 [00:02<00:40, 9641.62it/s]\u001b[A\n",
      "  6%|▌         | 23457/414113 [00:02<00:40, 9701.66it/s]\u001b[A\n",
      "  6%|▌         | 24428/414113 [00:02<00:40, 9631.27it/s]\u001b[A\n",
      "  6%|▌         | 25392/414113 [00:02<00:40, 9588.50it/s]\u001b[A\n",
      "  6%|▋         | 26372/414113 [00:02<00:40, 9650.96it/s]\u001b[A\n",
      "  7%|▋         | 27353/414113 [00:02<00:39, 9695.92it/s]\u001b[A\n",
      "  7%|▋         | 28323/414113 [00:03<00:39, 9675.17it/s]\u001b[A\n",
      "  7%|▋         | 29291/414113 [00:03<00:39, 9642.53it/s]\u001b[A\n",
      "  7%|▋         | 30256/414113 [00:03<00:40, 9427.71it/s]\u001b[A\n",
      "  8%|▊         | 31226/414113 [00:03<00:40, 9507.27it/s]\u001b[A\n",
      "  8%|▊         | 32178/414113 [00:03<00:40, 9404.55it/s]\u001b[A\n",
      "  8%|▊         | 33120/414113 [00:03<00:41, 9234.77it/s]\u001b[A\n",
      "  8%|▊         | 34045/414113 [00:03<00:41, 9173.12it/s]\u001b[A\n",
      "  8%|▊         | 35011/414113 [00:03<00:40, 9312.27it/s]\u001b[A\n",
      "  9%|▊         | 35944/414113 [00:03<00:41, 9109.95it/s]\u001b[A\n",
      "  9%|▉         | 36857/414113 [00:03<00:41, 9089.14it/s]\u001b[A\n",
      "  9%|▉         | 37768/414113 [00:04<00:41, 9030.70it/s]\u001b[A\n",
      "  9%|▉         | 38673/414113 [00:04<00:42, 8923.41it/s]\u001b[A\n",
      " 10%|▉         | 39616/414113 [00:04<00:41, 9068.70it/s]\u001b[A\n",
      " 10%|▉         | 40550/414113 [00:04<00:40, 9147.56it/s]\u001b[A\n",
      " 10%|█         | 41504/414113 [00:04<00:40, 9261.52it/s]\u001b[A\n",
      " 10%|█         | 42432/414113 [00:04<00:40, 9213.67it/s]\u001b[A\n",
      " 10%|█         | 43377/414113 [00:04<00:39, 9283.22it/s]\u001b[A\n",
      " 11%|█         | 44307/414113 [00:04<00:40, 9160.73it/s]\u001b[A\n",
      " 11%|█         | 45238/414113 [00:04<00:40, 9204.32it/s]\u001b[A\n",
      " 11%|█         | 46193/414113 [00:04<00:39, 9304.15it/s]\u001b[A\n",
      " 11%|█▏        | 47125/414113 [00:05<00:39, 9302.95it/s]\u001b[A\n",
      " 12%|█▏        | 48056/414113 [00:05<00:39, 9292.81it/s]\u001b[A\n",
      " 12%|█▏        | 48986/414113 [00:05<00:39, 9150.54it/s]\u001b[A\n",
      " 12%|█▏        | 49953/414113 [00:05<00:39, 9299.38it/s]\u001b[A\n",
      " 12%|█▏        | 50926/414113 [00:05<00:38, 9423.28it/s]\u001b[A\n",
      " 13%|█▎        | 51870/414113 [00:05<00:38, 9317.86it/s]\u001b[A\n",
      " 13%|█▎        | 52821/414113 [00:05<00:38, 9374.13it/s]\u001b[A\n",
      " 13%|█▎        | 53798/414113 [00:05<00:37, 9487.29it/s]\u001b[A\n",
      " 13%|█▎        | 54753/414113 [00:05<00:37, 9503.65it/s]\u001b[A\n",
      " 13%|█▎        | 55744/414113 [00:05<00:37, 9620.62it/s]\u001b[A\n",
      " 14%|█▎        | 56732/414113 [00:06<00:36, 9694.94it/s]\u001b[A\n",
      " 14%|█▍        | 57708/414113 [00:06<00:36, 9712.65it/s]\u001b[A\n",
      " 14%|█▍        | 58680/414113 [00:06<00:36, 9675.02it/s]\u001b[A\n",
      " 14%|█▍        | 59648/414113 [00:06<00:36, 9634.93it/s]\u001b[A\n",
      " 15%|█▍        | 60612/414113 [00:06<00:37, 9550.10it/s]\u001b[A\n",
      " 15%|█▍        | 61568/414113 [00:06<00:37, 9493.95it/s]\u001b[A\n",
      " 15%|█▌        | 62518/414113 [00:06<00:37, 9489.75it/s]\u001b[A\n",
      " 15%|█▌        | 63497/414113 [00:06<00:36, 9576.69it/s]\u001b[A\n",
      " 16%|█▌        | 64481/414113 [00:06<00:36, 9653.13it/s]\u001b[A\n",
      " 16%|█▌        | 65461/414113 [00:06<00:35, 9694.95it/s]\u001b[A\n",
      " 16%|█▌        | 66431/414113 [00:07<00:35, 9675.25it/s]\u001b[A\n",
      " 16%|█▋        | 67408/414113 [00:07<00:35, 9703.37it/s]\u001b[A\n",
      " 17%|█▋        | 68383/414113 [00:07<00:35, 9716.11it/s]\u001b[A\n",
      " 17%|█▋        | 69355/414113 [00:07<00:36, 9390.57it/s]\u001b[A\n",
      " 17%|█▋        | 70340/414113 [00:07<00:36, 9522.14it/s]\u001b[A\n",
      " 17%|█▋        | 71295/414113 [00:07<00:36, 9510.85it/s]\u001b[A\n",
      " 17%|█▋        | 72248/414113 [00:07<00:35, 9504.87it/s]\u001b[A\n",
      " 18%|█▊        | 73200/414113 [00:07<00:35, 9500.00it/s]\u001b[A\n",
      " 18%|█▊        | 74165/414113 [00:07<00:35, 9544.19it/s]\u001b[A\n",
      " 18%|█▊        | 75120/414113 [00:07<00:36, 9399.00it/s]\u001b[A\n",
      " 18%|█▊        | 76061/414113 [00:08<00:37, 9119.82it/s]\u001b[A\n",
      " 19%|█▊        | 77057/414113 [00:08<00:36, 9354.52it/s]\u001b[A\n",
      " 19%|█▉        | 78012/414113 [00:08<00:35, 9412.02it/s]\u001b[A\n",
      " 19%|█▉        | 79011/414113 [00:08<00:34, 9577.27it/s]\u001b[A\n",
      " 19%|█▉        | 79979/414113 [00:08<00:34, 9606.48it/s]\u001b[A\n",
      " 20%|█▉        | 80942/414113 [00:08<00:35, 9407.36it/s]\u001b[A\n",
      " 20%|█▉        | 81887/414113 [00:08<00:35, 9416.94it/s]\u001b[A\n",
      " 20%|██        | 82880/414113 [00:08<00:34, 9562.97it/s]\u001b[A\n",
      " 20%|██        | 83868/414113 [00:08<00:34, 9653.26it/s]\u001b[A\n",
      " 20%|██        | 84852/414113 [00:09<00:33, 9706.45it/s]\u001b[A\n",
      " 21%|██        | 85824/414113 [00:09<00:33, 9693.66it/s]\u001b[A\n",
      " 21%|██        | 86795/414113 [00:09<00:55, 5928.66it/s]\u001b[A\n",
      " 21%|██        | 87726/414113 [00:09<00:49, 6653.44it/s]\u001b[A\n",
      " 21%|██▏       | 88609/414113 [00:09<00:45, 7184.50it/s]\u001b[A\n",
      " 22%|██▏       | 89569/414113 [00:09<00:41, 7769.97it/s]\u001b[A\n",
      " 22%|██▏       | 90466/414113 [00:09<00:39, 8094.81it/s]\u001b[A\n",
      " 22%|██▏       | 91436/414113 [00:09<00:37, 8516.59it/s]\u001b[A\n",
      " 22%|██▏       | 92397/414113 [00:10<00:36, 8816.62it/s]\u001b[A\n",
      " 23%|██▎       | 93355/414113 [00:10<00:35, 9030.40it/s]\u001b[A\n",
      " 23%|██▎       | 94300/414113 [00:10<00:34, 9150.91it/s]\u001b[A\n",
      " 23%|██▎       | 95246/414113 [00:10<00:34, 9239.07it/s]\u001b[A\n",
      " 23%|██▎       | 96186/414113 [00:10<00:35, 9072.70it/s]\u001b[A\n",
      " 23%|██▎       | 97159/414113 [00:10<00:34, 9260.22it/s]\u001b[A\n",
      " 24%|██▎       | 98095/414113 [00:10<00:34, 9208.85it/s]\u001b[A\n",
      " 24%|██▍       | 99023/414113 [00:10<00:34, 9200.26it/s]\u001b[A\n",
      " 24%|██▍       | 100000/414113 [00:10<00:33, 9362.94it/s]\u001b[A\n",
      " 24%|██▍       | 100941/414113 [00:10<00:34, 9195.36it/s]\u001b[A\n",
      " 25%|██▍       | 101864/414113 [00:11<00:34, 9036.29it/s]\u001b[A\n",
      " 25%|██▍       | 102773/414113 [00:11<00:34, 9050.07it/s]\u001b[A\n",
      " 25%|██▌       | 103719/414113 [00:11<00:33, 9168.97it/s]\u001b[A\n",
      " 25%|██▌       | 104638/414113 [00:11<00:34, 9086.08it/s]\u001b[A\n",
      " 25%|██▌       | 105558/414113 [00:11<00:33, 9117.84it/s]\u001b[A\n",
      " 26%|██▌       | 106522/414113 [00:11<00:33, 9266.78it/s]\u001b[A\n",
      " 26%|██▌       | 107475/414113 [00:11<00:32, 9342.50it/s]\u001b[A\n",
      " 26%|██▌       | 108441/414113 [00:11<00:32, 9432.99it/s]\u001b[A\n",
      " 26%|██▋       | 109386/414113 [00:11<00:32, 9415.09it/s]\u001b[A\n",
      " 27%|██▋       | 110332/414113 [00:11<00:32, 9426.30it/s]\u001b[A\n",
      " 27%|██▋       | 111276/414113 [00:12<00:32, 9212.02it/s]\u001b[A\n",
      " 27%|██▋       | 112238/414113 [00:12<00:32, 9328.64it/s]\u001b[A\n",
      " 27%|██▋       | 113226/414113 [00:12<00:31, 9486.38it/s]\u001b[A\n",
      " 28%|██▊       | 114207/414113 [00:12<00:31, 9578.69it/s]\u001b[A\n",
      " 28%|██▊       | 115167/414113 [00:12<00:31, 9569.05it/s]\u001b[A\n",
      " 28%|██▊       | 116155/414113 [00:12<00:30, 9657.61it/s]\u001b[A\n",
      " 28%|██▊       | 117133/414113 [00:12<00:30, 9693.23it/s]\u001b[A\n",
      " 29%|██▊       | 118114/414113 [00:12<00:30, 9726.92it/s]\u001b[A\n",
      " 29%|██▉       | 119096/414113 [00:12<00:30, 9752.68it/s]\u001b[A\n",
      " 29%|██▉       | 120072/414113 [00:12<00:30, 9736.20it/s]\u001b[A\n",
      " 29%|██▉       | 121046/414113 [00:13<00:30, 9691.62it/s]\u001b[A\n",
      " 29%|██▉       | 122016/414113 [00:13<00:30, 9659.03it/s]\u001b[A\n",
      " 30%|██▉       | 122985/414113 [00:13<00:30, 9666.20it/s]\u001b[A\n",
      " 30%|██▉       | 123974/414113 [00:13<00:29, 9731.48it/s]\u001b[A\n",
      " 30%|███       | 124948/414113 [00:13<00:30, 9331.30it/s]\u001b[A\n",
      " 30%|███       | 125936/414113 [00:13<00:30, 9488.40it/s]\u001b[A\n",
      " 31%|███       | 126906/414113 [00:13<00:30, 9549.85it/s]\u001b[A\n",
      " 31%|███       | 127864/414113 [00:13<00:31, 9213.51it/s]\u001b[A\n",
      " 31%|███       | 128831/414113 [00:13<00:30, 9345.01it/s]\u001b[A\n",
      " 31%|███▏      | 129802/414113 [00:13<00:30, 9451.48it/s]\u001b[A\n",
      " 32%|███▏      | 130788/414113 [00:14<00:29, 9569.15it/s]\u001b[A\n",
      " 32%|███▏      | 131748/414113 [00:14<00:29, 9518.05it/s]\u001b[A\n",
      " 32%|███▏      | 132702/414113 [00:14<00:30, 9132.78it/s]\u001b[A\n",
      " 32%|███▏      | 133696/414113 [00:14<00:29, 9358.53it/s]\u001b[A\n",
      " 33%|███▎      | 134674/414113 [00:14<00:29, 9480.45it/s]\u001b[A\n",
      " 33%|███▎      | 135626/414113 [00:14<00:30, 9273.36it/s]\u001b[A\n",
      " 33%|███▎      | 136567/414113 [00:14<00:29, 9311.87it/s]\u001b[A\n",
      " 33%|███▎      | 137549/414113 [00:14<00:29, 9457.29it/s]\u001b[A\n",
      " 33%|███▎      | 138532/414113 [00:14<00:28, 9563.19it/s]\u001b[A\n",
      " 34%|███▎      | 139491/414113 [00:15<00:30, 9136.10it/s]\u001b[A\n",
      " 34%|███▍      | 140443/414113 [00:15<00:29, 9246.22it/s]\u001b[A\n",
      " 34%|███▍      | 141390/414113 [00:15<00:29, 9311.22it/s]\u001b[A\n",
      " 34%|███▍      | 142325/414113 [00:15<00:29, 9180.18it/s]\u001b[A\n",
      " 35%|███▍      | 143308/414113 [00:15<00:28, 9365.02it/s]\u001b[A\n",
      " 35%|███▍      | 144268/414113 [00:15<00:28, 9434.19it/s]\u001b[A\n",
      " 35%|███▌      | 145214/414113 [00:15<00:28, 9345.64it/s]\u001b[A\n",
      " 35%|███▌      | 146163/414113 [00:15<00:28, 9385.73it/s]\u001b[A\n",
      " 36%|███▌      | 147103/414113 [00:15<00:28, 9290.11it/s]\u001b[A\n",
      " 36%|███▌      | 148094/414113 [00:15<00:28, 9466.65it/s]\u001b[A\n",
      " 36%|███▌      | 149043/414113 [00:16<00:28, 9331.71it/s]\u001b[A\n",
      " 36%|███▌      | 149978/414113 [00:16<00:28, 9204.67it/s]\u001b[A\n",
      " 36%|███▋      | 150928/414113 [00:16<00:28, 9289.49it/s]\u001b[A\n",
      " 37%|███▋      | 151883/414113 [00:16<00:28, 9364.28it/s]\u001b[A\n",
      " 37%|███▋      | 152821/414113 [00:16<00:28, 9199.40it/s]\u001b[A\n",
      " 37%|███▋      | 153760/414113 [00:16<00:28, 9253.14it/s]\u001b[A\n",
      " 37%|███▋      | 154687/414113 [00:16<00:28, 9118.26it/s]\u001b[A\n",
      " 38%|███▊      | 155652/414113 [00:16<00:27, 9269.07it/s]\u001b[A\n",
      " 38%|███▊      | 156636/414113 [00:16<00:27, 9432.47it/s]\u001b[A\n",
      " 38%|███▊      | 157593/414113 [00:16<00:27, 9473.28it/s]\u001b[A\n",
      " 38%|███▊      | 158570/414113 [00:17<00:26, 9558.65it/s]\u001b[A\n",
      " 39%|███▊      | 159542/414113 [00:17<00:26, 9606.48it/s]\u001b[A\n",
      " 39%|███▉      | 160521/414113 [00:17<00:26, 9659.40it/s]\u001b[A\n",
      " 39%|███▉      | 161495/414113 [00:17<00:26, 9682.00it/s]\u001b[A\n",
      " 39%|███▉      | 162475/414113 [00:17<00:25, 9717.02it/s]\u001b[A\n",
      " 39%|███▉      | 163448/414113 [00:17<00:26, 9536.18it/s]\u001b[A\n",
      " 40%|███▉      | 164408/414113 [00:17<00:26, 9553.93it/s]\u001b[A\n",
      " 40%|███▉      | 165383/414113 [00:17<00:25, 9609.35it/s]\u001b[A\n",
      " 40%|████      | 166345/414113 [00:17<00:25, 9609.86it/s]\u001b[A\n",
      " 40%|████      | 167319/414113 [00:17<00:25, 9647.62it/s]\u001b[A\n",
      " 41%|████      | 168310/414113 [00:18<00:25, 9722.64it/s]\u001b[A\n",
      " 41%|████      | 169283/414113 [00:18<00:25, 9479.38it/s]\u001b[A\n",
      " 41%|████      | 170233/414113 [00:18<00:25, 9415.54it/s]\u001b[A\n",
      " 41%|████▏     | 171176/414113 [00:18<00:25, 9364.28it/s]\u001b[A\n",
      " 42%|████▏     | 172168/414113 [00:18<00:25, 9523.92it/s]\u001b[A\n",
      " 42%|████▏     | 173127/414113 [00:18<00:25, 9543.42it/s]\u001b[A\n",
      " 42%|████▏     | 174095/414113 [00:18<00:25, 9581.95it/s]\u001b[A\n",
      " 42%|████▏     | 175054/414113 [00:18<00:25, 9557.94it/s]\u001b[A\n",
      " 43%|████▎     | 176011/414113 [00:18<00:25, 9432.41it/s]\u001b[A\n",
      " 43%|████▎     | 176998/414113 [00:18<00:24, 9556.93it/s]\u001b[A\n",
      " 43%|████▎     | 177965/414113 [00:19<00:24, 9589.01it/s]\u001b[A\n",
      " 43%|████▎     | 178925/414113 [00:19<00:24, 9549.78it/s]\u001b[A\n",
      " 43%|████▎     | 179881/414113 [00:19<00:24, 9379.82it/s]\u001b[A\n",
      " 44%|████▎     | 180843/414113 [00:19<00:24, 9449.64it/s]\u001b[A\n",
      " 44%|████▍     | 181789/414113 [00:19<00:25, 9261.32it/s]\u001b[A\n",
      " 44%|████▍     | 182717/414113 [00:19<00:25, 9231.41it/s]\u001b[A\n",
      " 44%|████▍     | 183642/414113 [00:19<00:25, 9063.61it/s]\u001b[A\n",
      " 45%|████▍     | 184607/414113 [00:19<00:24, 9230.15it/s]\u001b[A\n",
      " 45%|████▍     | 185532/414113 [00:19<00:25, 8964.60it/s]\u001b[A\n",
      " 45%|████▌     | 186507/414113 [00:20<00:24, 9185.39it/s]\u001b[A\n",
      " 45%|████▌     | 187503/414113 [00:20<00:24, 9402.54it/s]\u001b[A\n",
      " 46%|████▌     | 188484/414113 [00:20<00:23, 9518.44it/s]\u001b[A\n",
      " 46%|████▌     | 189439/414113 [00:20<00:24, 9316.96it/s]\u001b[A\n",
      " 46%|████▌     | 190428/414113 [00:20<00:23, 9479.80it/s]\u001b[A\n",
      " 46%|████▌     | 191379/414113 [00:20<00:23, 9387.03it/s]\u001b[A\n",
      " 46%|████▋     | 192374/414113 [00:20<00:23, 9547.46it/s]\u001b[A\n",
      " 47%|████▋     | 193331/414113 [00:20<00:23, 9528.19it/s]\u001b[A\n",
      " 47%|████▋     | 194286/414113 [00:20<00:23, 9503.67it/s]\u001b[A\n",
      " 47%|████▋     | 195241/414113 [00:20<00:23, 9514.28it/s]\u001b[A\n",
      " 47%|████▋     | 196194/414113 [00:21<00:22, 9493.30it/s]\u001b[A\n",
      " 48%|████▊     | 197164/414113 [00:21<00:22, 9553.88it/s]\u001b[A\n",
      " 48%|████▊     | 198145/414113 [00:21<00:22, 9623.89it/s]\u001b[A\n",
      " 48%|████▊     | 199108/414113 [00:21<00:22, 9580.33it/s]\u001b[A\n",
      " 48%|████▊     | 200067/414113 [00:21<00:22, 9498.96it/s]\u001b[A\n",
      " 49%|████▊     | 201051/414113 [00:21<00:22, 9595.61it/s]\u001b[A\n",
      " 49%|████▉     | 202012/414113 [00:21<00:22, 9572.93it/s]\u001b[A\n",
      " 49%|████▉     | 202970/414113 [00:21<00:22, 9401.72it/s]\u001b[A\n",
      " 49%|████▉     | 203929/414113 [00:21<00:22, 9457.38it/s]\u001b[A\n",
      " 49%|████▉     | 204919/414113 [00:21<00:21, 9584.71it/s]\u001b[A\n",
      " 50%|████▉     | 205879/414113 [00:22<00:21, 9513.41it/s]\u001b[A\n",
      " 50%|████▉     | 206832/414113 [00:22<00:22, 9404.80it/s]\u001b[A\n",
      " 50%|█████     | 207774/414113 [00:22<00:21, 9407.72it/s]\u001b[A\n",
      " 50%|█████     | 208716/414113 [00:22<00:22, 9223.63it/s]\u001b[A\n",
      " 51%|█████     | 209661/414113 [00:22<00:22, 9278.48it/s]\u001b[A\n",
      " 51%|█████     | 210590/414113 [00:22<00:21, 9275.41it/s]\u001b[A\n",
      " 51%|█████     | 211519/414113 [00:22<00:22, 9172.52it/s]\u001b[A\n",
      " 51%|█████▏    | 212437/414113 [00:23<00:38, 5283.89it/s]\u001b[A\n",
      " 52%|█████▏    | 213388/414113 [00:23<00:32, 6095.63it/s]\u001b[A\n",
      " 52%|█████▏    | 214309/414113 [00:23<00:29, 6783.49it/s]\u001b[A\n",
      " 52%|█████▏    | 215259/414113 [00:23<00:26, 7419.98it/s]\u001b[A\n",
      " 52%|█████▏    | 216222/414113 [00:23<00:24, 7968.10it/s]\u001b[A\n",
      " 52%|█████▏    | 217168/414113 [00:23<00:23, 8363.12it/s]\u001b[A\n",
      " 53%|█████▎    | 218111/414113 [00:23<00:22, 8655.00it/s]\u001b[A\n",
      " 53%|█████▎    | 219077/414113 [00:23<00:21, 8931.88it/s]\u001b[A\n",
      " 53%|█████▎    | 220015/414113 [00:23<00:21, 9060.38it/s]\u001b[A\n",
      " 53%|█████▎    | 220984/414113 [00:23<00:20, 9239.57it/s]\u001b[A\n",
      " 54%|█████▎    | 221964/414113 [00:24<00:20, 9398.77it/s]\u001b[A\n",
      " 54%|█████▍    | 222922/414113 [00:24<00:20, 9450.04it/s]\u001b[A\n",
      " 54%|█████▍    | 223879/414113 [00:24<00:20, 9484.65it/s]\u001b[A\n",
      " 54%|█████▍    | 224836/414113 [00:24<00:19, 9501.53it/s]\u001b[A\n",
      " 55%|█████▍    | 225792/414113 [00:24<00:19, 9490.79it/s]\u001b[A\n",
      " 55%|█████▍    | 226758/414113 [00:24<00:19, 9540.21it/s]\u001b[A\n",
      " 55%|█████▍    | 227729/414113 [00:24<00:19, 9587.17it/s]\u001b[A\n",
      " 55%|█████▌    | 228690/414113 [00:24<00:20, 9158.40it/s]\u001b[A\n",
      " 55%|█████▌    | 229672/414113 [00:24<00:19, 9346.26it/s]\u001b[A\n",
      " 56%|█████▌    | 230635/414113 [00:24<00:19, 9428.66it/s]\u001b[A\n",
      " 56%|█████▌    | 231601/414113 [00:25<00:19, 9494.54it/s]\u001b[A\n",
      " 56%|█████▌    | 232553/414113 [00:25<00:19, 9501.77it/s]\u001b[A\n",
      " 56%|█████▋    | 233505/414113 [00:25<00:19, 9499.14it/s]\u001b[A\n",
      " 57%|█████▋    | 234459/414113 [00:25<00:18, 9509.72it/s]\u001b[A\n",
      " 57%|█████▋    | 235411/414113 [00:25<00:18, 9471.24it/s]\u001b[A\n",
      " 57%|█████▋    | 236359/414113 [00:25<00:18, 9438.42it/s]\u001b[A\n",
      " 57%|█████▋    | 237304/414113 [00:25<00:18, 9438.54it/s]\u001b[A\n",
      " 58%|█████▊    | 238268/414113 [00:25<00:18, 9496.03it/s]\u001b[A\n",
      " 58%|█████▊    | 239218/414113 [00:25<00:18, 9440.78it/s]\u001b[A\n",
      " 58%|█████▊    | 240163/414113 [00:25<00:18, 9332.09it/s]\u001b[A\n",
      " 58%|█████▊    | 241112/414113 [00:26<00:18, 9377.67it/s]\u001b[A\n",
      " 58%|█████▊    | 242051/414113 [00:26<00:18, 9119.07it/s]\u001b[A\n",
      " 59%|█████▊    | 243027/414113 [00:26<00:18, 9300.07it/s]\u001b[A\n",
      " 59%|█████▉    | 243960/414113 [00:26<00:18, 9200.95it/s]\u001b[A\n",
      " 59%|█████▉    | 244882/414113 [00:26<00:18, 9191.85it/s]\u001b[A\n",
      " 59%|█████▉    | 245852/414113 [00:26<00:18, 9331.90it/s]\u001b[A\n",
      " 60%|█████▉    | 246823/414113 [00:26<00:17, 9442.06it/s]\u001b[A\n",
      " 60%|█████▉    | 247777/414113 [00:26<00:17, 9465.07it/s]\u001b[A\n",
      " 60%|██████    | 248725/414113 [00:26<00:17, 9429.41it/s]\u001b[A\n",
      " 60%|██████    | 249670/414113 [00:26<00:17, 9432.69it/s]\u001b[A\n",
      " 61%|██████    | 250614/414113 [00:27<00:17, 9422.39it/s]\u001b[A\n",
      " 61%|██████    | 251557/414113 [00:27<00:17, 9223.32it/s]\u001b[A\n",
      " 61%|██████    | 252481/414113 [00:27<00:17, 9101.17it/s]\u001b[A\n",
      " 61%|██████    | 253403/414113 [00:27<00:17, 9134.26it/s]\u001b[A\n",
      " 61%|██████▏   | 254318/414113 [00:27<00:17, 9011.91it/s]\u001b[A\n",
      " 62%|██████▏   | 255291/414113 [00:27<00:17, 9215.30it/s]\u001b[A\n",
      " 62%|██████▏   | 256235/414113 [00:27<00:17, 9279.55it/s]\u001b[A\n",
      " 62%|██████▏   | 257165/414113 [00:27<00:17, 8999.26it/s]\u001b[A\n",
      " 62%|██████▏   | 258070/414113 [00:27<00:17, 9012.11it/s]\u001b[A\n",
      " 63%|██████▎   | 259041/414113 [00:27<00:16, 9210.45it/s]\u001b[A\n"
     ]
    },
    {
     "name": "stderr",
     "output_type": "stream",
     "text": [
      " 63%|██████▎   | 260004/414113 [00:28<00:16, 9331.84it/s]\u001b[A\n",
      " 63%|██████▎   | 260953/414113 [00:28<00:16, 9316.86it/s]\u001b[A\n",
      " 63%|██████▎   | 261887/414113 [00:28<00:16, 9179.66it/s]\u001b[A\n",
      " 63%|██████▎   | 262807/414113 [00:28<00:16, 9073.08it/s]\u001b[A\n",
      " 64%|██████▎   | 263754/414113 [00:28<00:16, 9188.17it/s]\u001b[A\n",
      " 64%|██████▍   | 264680/414113 [00:28<00:16, 9204.21it/s]\u001b[A\n",
      " 64%|██████▍   | 265602/414113 [00:28<00:16, 8912.69it/s]\u001b[A\n",
      " 64%|██████▍   | 266518/414113 [00:28<00:16, 8983.38it/s]\u001b[A\n",
      " 65%|██████▍   | 267419/414113 [00:28<00:16, 8848.89it/s]\u001b[A\n",
      " 65%|██████▍   | 268383/414113 [00:29<00:16, 9070.82it/s]\u001b[A\n",
      " 65%|██████▌   | 269293/414113 [00:29<00:16, 8890.28it/s]\u001b[A\n",
      " 65%|██████▌   | 270185/414113 [00:29<00:16, 8874.56it/s]\u001b[A\n",
      " 65%|██████▌   | 271112/414113 [00:29<00:15, 8987.63it/s]\u001b[A\n",
      " 66%|██████▌   | 272013/414113 [00:29<00:15, 8961.50it/s]\u001b[A\n",
      " 66%|██████▌   | 272940/414113 [00:29<00:15, 9048.74it/s]\u001b[A\n",
      " 66%|██████▌   | 273859/414113 [00:29<00:15, 9085.63it/s]\u001b[A\n",
      " 66%|██████▋   | 274789/414113 [00:29<00:15, 9148.21it/s]\u001b[A\n",
      " 67%|██████▋   | 275705/414113 [00:29<00:15, 8899.47it/s]\u001b[A\n",
      " 67%|██████▋   | 276651/414113 [00:29<00:15, 9058.32it/s]\u001b[A\n",
      " 67%|██████▋   | 277603/414113 [00:30<00:14, 9191.71it/s]\u001b[A\n",
      " 67%|██████▋   | 278525/414113 [00:30<00:14, 9195.56it/s]\u001b[A\n",
      " 67%|██████▋   | 279446/414113 [00:30<00:15, 8862.61it/s]\u001b[A\n",
      " 68%|██████▊   | 280419/414113 [00:30<00:14, 9104.51it/s]\u001b[A\n",
      " 68%|██████▊   | 281367/414113 [00:30<00:14, 9212.53it/s]\u001b[A\n",
      " 68%|██████▊   | 282322/414113 [00:30<00:14, 9308.83it/s]\u001b[A\n",
      " 68%|██████▊   | 283269/414113 [00:30<00:13, 9354.28it/s]\u001b[A\n",
      " 69%|██████▊   | 284207/414113 [00:30<00:13, 9331.61it/s]\u001b[A\n",
      " 69%|██████▉   | 285185/414113 [00:30<00:13, 9459.68it/s]\u001b[A\n",
      " 69%|██████▉   | 286176/414113 [00:30<00:13, 9589.49it/s]\u001b[A\n",
      " 69%|██████▉   | 287137/414113 [00:31<00:13, 9138.64it/s]\u001b[A\n",
      " 70%|██████▉   | 288079/414113 [00:31<00:13, 9220.83it/s]\u001b[A\n",
      " 70%|██████▉   | 289006/414113 [00:31<00:13, 9116.34it/s]\u001b[A\n",
      " 70%|███████   | 289968/414113 [00:31<00:13, 9260.08it/s]\u001b[A\n",
      " 70%|███████   | 290926/414113 [00:31<00:13, 9353.23it/s]\u001b[A\n",
      " 70%|███████   | 291871/414113 [00:31<00:13, 9379.51it/s]\u001b[A\n",
      " 71%|███████   | 292827/414113 [00:31<00:12, 9432.75it/s]\u001b[A\n",
      " 71%|███████   | 293816/414113 [00:31<00:12, 9564.98it/s]\u001b[A\n",
      " 71%|███████   | 294774/414113 [00:31<00:12, 9487.31it/s]\u001b[A\n",
      " 71%|███████▏  | 295724/414113 [00:31<00:12, 9479.15it/s]\u001b[A\n",
      " 72%|███████▏  | 296673/414113 [00:32<00:12, 9353.43it/s]\u001b[A\n",
      " 72%|███████▏  | 297616/414113 [00:32<00:12, 9375.02it/s]\u001b[A\n",
      " 72%|███████▏  | 298561/414113 [00:32<00:12, 9395.31it/s]\u001b[A\n",
      " 72%|███████▏  | 299527/414113 [00:32<00:12, 9473.16it/s]\u001b[A\n",
      " 73%|███████▎  | 300501/414113 [00:32<00:11, 9548.98it/s]\u001b[A\n",
      " 73%|███████▎  | 301457/414113 [00:32<00:11, 9547.47it/s]\u001b[A\n",
      " 73%|███████▎  | 302413/414113 [00:32<00:12, 9288.57it/s]\u001b[A\n",
      " 73%|███████▎  | 303380/414113 [00:32<00:11, 9397.40it/s]\u001b[A\n",
      " 73%|███████▎  | 304324/414113 [00:32<00:11, 9407.53it/s]\u001b[A\n",
      " 74%|███████▎  | 305266/414113 [00:32<00:11, 9391.47it/s]\u001b[A\n",
      " 74%|███████▍  | 306206/414113 [00:33<00:11, 9319.31it/s]\u001b[A\n",
      " 74%|███████▍  | 307158/414113 [00:33<00:11, 9377.27it/s]\u001b[A\n",
      " 74%|███████▍  | 308110/414113 [00:33<00:11, 9419.29it/s]\u001b[A\n",
      " 75%|███████▍  | 309068/414113 [00:33<00:11, 9465.69it/s]\u001b[A\n",
      " 75%|███████▍  | 310016/414113 [00:33<00:10, 9469.72it/s]\u001b[A\n",
      " 75%|███████▌  | 310987/414113 [00:33<00:10, 9539.06it/s]\u001b[A\n",
      " 75%|███████▌  | 311945/414113 [00:33<00:10, 9551.21it/s]\u001b[A\n",
      " 76%|███████▌  | 312901/414113 [00:33<00:10, 9552.14it/s]\u001b[A\n",
      " 76%|███████▌  | 313857/414113 [00:33<00:10, 9540.58it/s]\u001b[A\n",
      " 76%|███████▌  | 314812/414113 [00:33<00:10, 9509.59it/s]\u001b[A\n",
      " 76%|███████▋  | 315764/414113 [00:34<00:10, 9068.67it/s]\u001b[A\n",
      " 76%|███████▋  | 316729/414113 [00:34<00:10, 9235.00it/s]\u001b[A\n",
      " 77%|███████▋  | 317715/414113 [00:34<00:10, 9413.01it/s]\u001b[A\n",
      " 77%|███████▋  | 318668/414113 [00:34<00:10, 9445.41it/s]\u001b[A\n",
      " 77%|███████▋  | 319616/414113 [00:34<00:10, 9301.33it/s]\u001b[A\n",
      " 77%|███████▋  | 320551/414113 [00:34<00:10, 9314.81it/s]\u001b[A\n",
      " 78%|███████▊  | 321485/414113 [00:34<00:10, 9260.15it/s]\u001b[A\n",
      " 78%|███████▊  | 322413/414113 [00:34<00:09, 9211.11it/s]\u001b[A\n",
      " 78%|███████▊  | 323335/414113 [00:34<00:10, 9072.93it/s]\u001b[A\n",
      " 78%|███████▊  | 324280/414113 [00:35<00:09, 9180.78it/s]\u001b[A\n",
      " 79%|███████▊  | 325241/414113 [00:35<00:09, 9304.50it/s]\u001b[A\n",
      " 79%|███████▉  | 326178/414113 [00:35<00:09, 9322.48it/s]\u001b[A\n",
      " 79%|███████▉  | 327139/414113 [00:35<00:09, 9405.88it/s]\u001b[A\n",
      " 79%|███████▉  | 328081/414113 [00:35<00:09, 9083.97it/s]\u001b[A\n",
      " 79%|███████▉  | 329044/414113 [00:35<00:09, 9239.25it/s]\u001b[A\n",
      " 80%|███████▉  | 329984/414113 [00:35<00:09, 9285.78it/s]\u001b[A\n",
      " 80%|███████▉  | 330939/414113 [00:35<00:08, 9362.76it/s]\u001b[A\n",
      " 80%|████████  | 331877/414113 [00:35<00:08, 9358.48it/s]\u001b[A\n",
      " 80%|████████  | 332814/414113 [00:35<00:08, 9308.97it/s]\u001b[A\n",
      " 81%|████████  | 333746/414113 [00:36<00:08, 9262.35it/s]\u001b[A\n",
      " 81%|████████  | 334673/414113 [00:36<00:08, 9034.08it/s]\u001b[A\n",
      " 81%|████████  | 335587/414113 [00:36<00:08, 9065.25it/s]\u001b[A\n",
      " 81%|████████▏ | 336518/414113 [00:36<00:08, 9135.58it/s]\u001b[A\n",
      " 81%|████████▏ | 337440/414113 [00:36<00:08, 9159.23it/s]\u001b[A\n",
      " 82%|████████▏ | 338357/414113 [00:36<00:08, 9105.53it/s]\u001b[A\n",
      " 82%|████████▏ | 339269/414113 [00:36<00:08, 9017.47it/s]\u001b[A\n",
      " 82%|████████▏ | 340198/414113 [00:36<00:08, 9093.94it/s]\u001b[A\n",
      " 82%|████████▏ | 341136/414113 [00:36<00:07, 9176.33it/s]\u001b[A\n",
      " 83%|████████▎ | 342055/414113 [00:36<00:07, 9101.85it/s]\u001b[A\n",
      " 83%|████████▎ | 343019/414113 [00:37<00:07, 9254.11it/s]\u001b[A\n",
      " 83%|████████▎ | 343963/414113 [00:37<00:07, 9304.87it/s]\u001b[A\n",
      " 83%|████████▎ | 344895/414113 [00:37<00:07, 9296.12it/s]\u001b[A\n",
      " 84%|████████▎ | 345868/414113 [00:37<00:07, 9420.65it/s]\u001b[A\n",
      " 84%|████████▎ | 346816/414113 [00:37<00:07, 9438.10it/s]\u001b[A\n",
      " 84%|████████▍ | 347761/414113 [00:37<00:07, 9426.78it/s]\u001b[A\n",
      " 84%|████████▍ | 348705/414113 [00:37<00:06, 9353.10it/s]\u001b[A\n",
      " 84%|████████▍ | 349641/414113 [00:37<00:07, 9202.65it/s]\u001b[A\n",
      " 85%|████████▍ | 350590/414113 [00:37<00:06, 9286.74it/s]\u001b[A\n",
      " 85%|████████▍ | 351569/414113 [00:37<00:06, 9431.95it/s]\u001b[A\n",
      " 85%|████████▌ | 352514/414113 [00:38<00:06, 9261.12it/s]\u001b[A\n",
      " 85%|████████▌ | 353453/414113 [00:38<00:06, 9296.64it/s]\u001b[A\n",
      " 86%|████████▌ | 354400/414113 [00:38<00:06, 9347.35it/s]\u001b[A\n",
      " 86%|████████▌ | 355345/414113 [00:38<00:06, 9376.95it/s]\u001b[A\n",
      " 86%|████████▌ | 356292/414113 [00:38<00:06, 9402.27it/s]\u001b[A\n",
      " 86%|████████▋ | 357233/414113 [00:38<00:06, 9294.85it/s]\u001b[A\n",
      " 86%|████████▋ | 358164/414113 [00:38<00:06, 9270.22it/s]\u001b[A\n",
      " 87%|████████▋ | 359114/414113 [00:38<00:05, 9337.41it/s]\u001b[A\n",
      " 87%|████████▋ | 360090/414113 [00:38<00:05, 9457.72it/s]\u001b[A\n",
      " 87%|████████▋ | 361040/414113 [00:38<00:05, 9468.41it/s]\u001b[A\n",
      " 87%|████████▋ | 361988/414113 [00:39<00:05, 9241.21it/s]\u001b[A\n",
      " 88%|████████▊ | 362932/414113 [00:39<00:05, 9298.77it/s]\u001b[A\n",
      " 88%|████████▊ | 363864/414113 [00:39<00:05, 9289.30it/s]\u001b[A\n",
      " 88%|████████▊ | 364795/414113 [00:39<00:05, 9293.46it/s]\u001b[A\n",
      " 88%|████████▊ | 365763/414113 [00:39<00:05, 9405.71it/s]\u001b[A\n",
      " 89%|████████▊ | 366705/414113 [00:39<00:05, 9285.37it/s]\u001b[A\n",
      " 89%|████████▉ | 367635/414113 [00:39<00:05, 8987.26it/s]\u001b[A\n",
      " 89%|████████▉ | 368570/414113 [00:39<00:05, 9092.31it/s]\u001b[A\n",
      " 89%|████████▉ | 369491/414113 [00:39<00:04, 9125.84it/s]\u001b[A\n",
      " 89%|████████▉ | 370406/414113 [00:40<00:09, 4813.26it/s]\u001b[A\n",
      " 90%|████████▉ | 371342/414113 [00:40<00:07, 5634.32it/s]\u001b[A\n",
      " 90%|████████▉ | 372298/414113 [00:40<00:06, 6425.47it/s]\u001b[A\n",
      " 90%|█████████ | 373212/414113 [00:40<00:05, 7053.20it/s]\u001b[A\n",
      " 90%|█████████ | 374082/414113 [00:40<00:05, 7476.86it/s]\u001b[A\n",
      " 91%|█████████ | 375021/414113 [00:40<00:04, 7963.46it/s]\u001b[A\n",
      " 91%|█████████ | 375965/414113 [00:40<00:04, 8350.51it/s]\u001b[A\n",
      " 91%|█████████ | 376913/414113 [00:41<00:04, 8658.22it/s]\u001b[A\n",
      " 91%|█████████ | 377832/414113 [00:41<00:04, 8809.48it/s]\u001b[A\n",
      " 91%|█████████▏| 378814/414113 [00:41<00:03, 9089.43it/s]\u001b[A\n",
      " 92%|█████████▏| 379794/414113 [00:41<00:03, 9290.83it/s]\u001b[A\n",
      " 92%|█████████▏| 380771/414113 [00:41<00:03, 9428.36it/s]\u001b[A\n",
      " 92%|█████████▏| 381751/414113 [00:41<00:03, 9534.16it/s]\u001b[A\n",
      " 92%|█████████▏| 382717/414113 [00:41<00:03, 9570.31it/s]\u001b[A\n",
      " 93%|█████████▎| 383694/414113 [00:41<00:03, 9627.02it/s]\u001b[A\n",
      " 93%|█████████▎| 384662/414113 [00:41<00:03, 9630.63it/s]\u001b[A\n",
      " 93%|█████████▎| 385637/414113 [00:41<00:02, 9664.70it/s]\u001b[A\n",
      " 93%|█████████▎| 386607/414113 [00:42<00:02, 9639.25it/s]\u001b[A\n",
      " 94%|█████████▎| 387573/414113 [00:42<00:02, 9601.35it/s]\u001b[A\n",
      " 94%|█████████▍| 388537/414113 [00:42<00:02, 9611.69it/s]\u001b[A\n",
      " 94%|█████████▍| 389500/414113 [00:42<00:02, 9172.27it/s]\u001b[A\n",
      " 94%|█████████▍| 390440/414113 [00:42<00:02, 9235.59it/s]\u001b[A\n",
      " 95%|█████████▍| 391388/414113 [00:42<00:02, 9306.51it/s]\u001b[A\n",
      " 95%|█████████▍| 392341/414113 [00:42<00:02, 9370.86it/s]\u001b[A\n",
      " 95%|█████████▍| 393281/414113 [00:42<00:02, 9358.94it/s]\u001b[A\n",
      " 95%|█████████▌| 394258/414113 [00:42<00:02, 9477.79it/s]\u001b[A\n",
      " 95%|█████████▌| 395208/414113 [00:42<00:01, 9460.57it/s]\u001b[A\n",
      " 96%|█████████▌| 396179/414113 [00:43<00:01, 9532.55it/s]\u001b[A\n",
      " 96%|█████████▌| 397163/414113 [00:43<00:01, 9620.26it/s]\u001b[A\n",
      " 96%|█████████▌| 398126/414113 [00:43<00:01, 9622.39it/s]\u001b[A\n",
      " 96%|█████████▋| 399089/414113 [00:43<00:01, 9578.99it/s]\u001b[A\n",
      " 97%|█████████▋| 400048/414113 [00:43<00:01, 9369.33it/s]\u001b[A\n",
      " 97%|█████████▋| 400990/414113 [00:43<00:01, 9381.05it/s]\u001b[A\n",
      " 97%|█████████▋| 401930/414113 [00:43<00:01, 9373.05it/s]\u001b[A\n",
      " 97%|█████████▋| 402868/414113 [00:43<00:01, 9278.57it/s]\u001b[A\n",
      " 98%|█████████▊| 403824/414113 [00:43<00:01, 9360.45it/s]\u001b[A\n",
      " 98%|█████████▊| 404801/414113 [00:43<00:00, 9479.35it/s]\u001b[A\n",
      " 98%|█████████▊| 405752/414113 [00:44<00:00, 9488.41it/s]\u001b[A\n",
      " 98%|█████████▊| 406727/414113 [00:44<00:00, 9564.68it/s]\u001b[A\n",
      " 98%|█████████▊| 407715/414113 [00:44<00:00, 9654.48it/s]\u001b[A\n",
      " 99%|█████████▊| 408686/414113 [00:44<00:00, 9669.22it/s]\u001b[A\n",
      " 99%|█████████▉| 409654/414113 [00:44<00:00, 9464.14it/s]\u001b[A\n",
      " 99%|█████████▉| 410612/414113 [00:44<00:00, 9496.10it/s]\u001b[A\n",
      " 99%|█████████▉| 411563/414113 [00:44<00:00, 9436.36it/s]\u001b[A\n",
      "100%|█████████▉| 412508/414113 [00:44<00:00, 9314.81it/s]\u001b[A\n",
      "100%|█████████▉| 413441/414113 [00:44<00:00, 9208.51it/s]\u001b[A\n",
      "100%|██████████| 414113/414113 [00:44<00:00, 9216.69it/s]\u001b[A"
     ]
    }
   ],
   "source": [
    "# Obtain the data loader (from file). Note that it runs much faster than before!\n",
    "# Modify the minimum word count threshold.\n",
    "vocab_threshold = 5\n",
    "\n",
    "data_loader = get_loader(transform=transform_train,\n",
    "                         mode='train',\n",
    "                         batch_size=batch_size,\n",
    "                         vocab_from_file=True)"
   ]
  },
  {
   "cell_type": "markdown",
   "metadata": {},
   "source": [
    "In the next section, you will learn how to use the data loader to obtain batches of training data."
   ]
  },
  {
   "cell_type": "markdown",
   "metadata": {},
   "source": [
    "<a id='step2'></a>\n",
    "## Step 2: Use the Data Loader to Obtain Batches\n",
    "\n",
    "The captions in the dataset vary greatly in length.  You can see this by examining `data_loader.dataset.caption_lengths`, a Python list with one entry for each training caption (where the value stores the length of the corresponding caption).  \n",
    "\n",
    "In the code cell below, we use this list to print the total number of captions in the training data with each length.  As you will see below, the majority of captions have length 10.  Likewise, very short and very long captions are quite rare.  "
   ]
  },
  {
   "cell_type": "code",
   "execution_count": 8,
   "metadata": {},
   "outputs": [
    {
     "name": "stdout",
     "output_type": "stream",
     "text": [
      "value: 10 --- count: 86332\n",
      "value: 11 --- count: 79945\n",
      "value:  9 --- count: 71935\n",
      "value: 12 --- count: 57639\n",
      "value: 13 --- count: 37648\n",
      "value: 14 --- count: 22335\n",
      "value:  8 --- count: 20769\n",
      "value: 15 --- count: 12842\n",
      "value: 16 --- count:  7729\n",
      "value: 17 --- count:  4842\n",
      "value: 18 --- count:  3103\n",
      "value: 19 --- count:  2015\n",
      "value:  7 --- count:  1597\n",
      "value: 20 --- count:  1451\n",
      "value: 21 --- count:   999\n",
      "value: 22 --- count:   683\n",
      "value: 23 --- count:   534\n",
      "value: 24 --- count:   383\n",
      "value: 25 --- count:   277\n",
      "value: 26 --- count:   215\n",
      "value: 27 --- count:   159\n",
      "value: 28 --- count:   115\n",
      "value: 29 --- count:    86\n",
      "value: 30 --- count:    58\n",
      "value: 31 --- count:    49\n",
      "value: 32 --- count:    44\n",
      "value: 34 --- count:    39\n",
      "value: 37 --- count:    32\n",
      "value: 33 --- count:    31\n",
      "value: 35 --- count:    31\n",
      "value: 36 --- count:    26\n",
      "value: 38 --- count:    18\n",
      "value: 39 --- count:    18\n",
      "value: 43 --- count:    16\n",
      "value: 44 --- count:    16\n",
      "value: 48 --- count:    12\n",
      "value: 45 --- count:    11\n",
      "value: 42 --- count:    10\n",
      "value: 40 --- count:     9\n",
      "value: 49 --- count:     9\n",
      "value: 46 --- count:     9\n",
      "value: 47 --- count:     7\n",
      "value: 50 --- count:     6\n",
      "value: 51 --- count:     6\n",
      "value: 41 --- count:     6\n",
      "value: 52 --- count:     5\n",
      "value: 54 --- count:     3\n",
      "value: 56 --- count:     2\n",
      "value:  6 --- count:     2\n",
      "value: 53 --- count:     2\n",
      "value: 55 --- count:     2\n",
      "value: 57 --- count:     1\n"
     ]
    }
   ],
   "source": [
    "from collections import Counter\n",
    "\n",
    "# Tally the total number of training captions with each length.\n",
    "counter = Counter(data_loader.dataset.caption_lengths)\n",
    "lengths = sorted(counter.items(), key=lambda pair: pair[1], reverse=True)\n",
    "for value, count in lengths:\n",
    "    print('value: %2d --- count: %5d' % (value, count))"
   ]
  },
  {
   "cell_type": "markdown",
   "metadata": {},
   "source": [
    "To generate batches of training data, we begin by first sampling a caption length (where the probability that any length is drawn is proportional to the number of captions with that length in the dataset).  Then, we retrieve a batch of size `batch_size` of image-caption pairs, where all captions have the sampled length.  This approach for assembling batches matches the procedure in [this paper](https://arxiv.org/pdf/1502.03044.pdf) and has been shown to be computationally efficient without degrading performance.\n",
    "\n",
    "Run the code cell below to generate a batch.  The `get_train_indices` method in the `CoCoDataset` class first samples a caption length, and then samples `batch_size` indices corresponding to training data points with captions of that length.  These indices are stored below in `indices`.\n",
    "\n",
    "These indices are supplied to the data loader, which then is used to retrieve the corresponding data points.  The pre-processed images and captions in the batch are stored in `images` and `captions`."
   ]
  },
  {
   "cell_type": "code",
   "execution_count": 9,
   "metadata": {
    "scrolled": false
   },
   "outputs": [
    {
     "name": "stdout",
     "output_type": "stream",
     "text": [
      "sampled indices: [399244, 241364, 56440, 49676, 348309, 232644, 97046, 304384, 313227, 390587]\n",
      "images.shape: torch.Size([10, 3, 224, 224])\n",
      "captions.shape: torch.Size([10, 13])\n"
     ]
    }
   ],
   "source": [
    "import numpy as np\n",
    "import torch.utils.data as data\n",
    "\n",
    "# Randomly sample a caption length, and sample indices with that length.\n",
    "indices = data_loader.dataset.get_train_indices()\n",
    "print('sampled indices:', indices)\n",
    "\n",
    "# Create and assign a batch sampler to retrieve a batch with the sampled indices.\n",
    "new_sampler = data.sampler.SubsetRandomSampler(indices=indices)\n",
    "data_loader.batch_sampler.sampler = new_sampler\n",
    "    \n",
    "# Obtain the batch.\n",
    "images, captions = next(iter(data_loader))\n",
    "    \n",
    "print('images.shape:', images.shape)\n",
    "print('captions.shape:', captions.shape)\n",
    "\n",
    "# (Optional) Uncomment the lines of code below to print the pre-processed images and captions.\n",
    "#print('images:', images)\n",
    "#print('captions:', captions)"
   ]
  },
  {
   "cell_type": "markdown",
   "metadata": {},
   "source": [
    "Each time you run the code cell above, a different caption length is sampled, and a different batch of training data is returned.  Run the code cell multiple times to check this out!\n",
    "\n",
    "You will train your model in the next notebook in this sequence (**2_Training.ipynb**). This code for generating training batches will be provided to you.\n",
    "\n",
    "> Before moving to the next notebook in the sequence (**2_Training.ipynb**), you are strongly encouraged to take the time to become very familiar with the code in  **data_loader.py** and **vocabulary.py**.  **Step 1** and **Step 2** of this notebook are designed to help facilitate a basic introduction and guide your understanding.  However, our description is not exhaustive, and it is up to you (as part of the project) to learn how to best utilize these files to complete the project.  __You should NOT amend any of the code in either *data_loader.py* or *vocabulary.py*.__\n",
    "\n",
    "In the next steps, we focus on learning how to specify a CNN-RNN architecture in PyTorch, towards the goal of image captioning."
   ]
  },
  {
   "cell_type": "markdown",
   "metadata": {},
   "source": [
    "<a id='step3'></a>\n",
    "## Step 3: Experiment with the CNN Encoder\n",
    "\n",
    "Run the code cell below to import `EncoderCNN` and `DecoderRNN` from **model.py**. "
   ]
  },
  {
   "cell_type": "code",
   "execution_count": 10,
   "metadata": {},
   "outputs": [],
   "source": [
    "# Watch for any changes in model.py, and re-load it automatically.\n",
    "%load_ext autoreload\n",
    "%autoreload 2\n",
    "\n",
    "# Import EncoderCNN and DecoderRNN. \n",
    "from model import EncoderCNN, DecoderRNN"
   ]
  },
  {
   "cell_type": "markdown",
   "metadata": {},
   "source": [
    "In the next code cell we define a `device` that you will use move PyTorch tensors to GPU (if CUDA is available).  Run this code cell before continuing."
   ]
  },
  {
   "cell_type": "code",
   "execution_count": 11,
   "metadata": {},
   "outputs": [],
   "source": [
    "import torch\n",
    "\n",
    "device = torch.device(\"cuda\" if torch.cuda.is_available() else \"cpu\")"
   ]
  },
  {
   "cell_type": "markdown",
   "metadata": {},
   "source": [
    "Run the code cell below to instantiate the CNN encoder in `encoder`.  \n",
    "\n",
    "The pre-processed images from the batch in **Step 2** of this notebook are then passed through the encoder, and the output is stored in `features`."
   ]
  },
  {
   "cell_type": "code",
   "execution_count": 12,
   "metadata": {},
   "outputs": [
    {
     "name": "stdout",
     "output_type": "stream",
     "text": [
      "encoder  <built-in method size of Tensor object at 0x7ff9e9a71708> torch.Size([10, 512])\n",
      "type(features): <class 'torch.Tensor'>\n",
      "features.shape: torch.Size([10, 512])\n"
     ]
    }
   ],
   "source": [
    "# Specify the dimensionality of the image embedding.\n",
    "embed_size = 512\n",
    "\n",
    "#-#-#-# Do NOT modify the code below this line. #-#-#-#\n",
    "\n",
    "# Initialize the encoder. (Optional: Add additional arguments if necessary.)\n",
    "encoder = EncoderCNN(embed_size)\n",
    "\n",
    "# Move the encoder to GPU if CUDA is available.\n",
    "encoder.to(device)\n",
    "    \n",
    "# Move last batch of images (from Step 2) to GPU if CUDA is available.   \n",
    "images = images.to(device)\n",
    "\n",
    "# Pass the images through the encoder.\n",
    "features = encoder(images)\n",
    "\n",
    "print('type(features):', type(features))\n",
    "print('features.shape:', features.shape)\n",
    "\n",
    "# Check that your encoder satisfies some requirements of the project! :D\n",
    "assert type(features)==torch.Tensor, \"Encoder output needs to be a PyTorch Tensor.\" \n",
    "assert (features.shape[0]==batch_size) & (features.shape[1]==embed_size), \"The shape of the encoder output is incorrect.\""
   ]
  },
  {
   "cell_type": "markdown",
   "metadata": {},
   "source": [
    "The encoder that we provide to you uses the pre-trained ResNet-50 architecture (with the final fully-connected layer removed) to extract features from a batch of pre-processed images.  The output is then flattened to a vector, before being passed through a `Linear` layer to transform the feature vector to have the same size as the word embedding.\n",
    "\n",
    "![Encoder](images/encoder.png)\n",
    "\n",
    "You are welcome (and encouraged) to amend the encoder in **model.py**, to experiment with other architectures.  In particular, consider using a [different pre-trained model architecture](http://pytorch.org/docs/master/torchvision/models.html).  You may also like to [add batch normalization](http://pytorch.org/docs/master/nn.html#normalization-layers).  \n",
    "\n",
    "> You are **not** required to change anything about the encoder.\n",
    "\n",
    "For this project, you **must** incorporate a pre-trained CNN into your encoder.  Your `EncoderCNN` class must take `embed_size` as an input argument, which will also correspond to the dimensionality of the input to the RNN decoder that you will implement in Step 4.  When you train your model in the next notebook in this sequence (**2_Training.ipynb**), you are welcome to tweak the value of `embed_size`.\n",
    "\n",
    "If you decide to modify the `EncoderCNN` class, save **model.py** and re-execute the code cell above.  If the code cell returns an assertion error, then please follow the instructions to modify your code before proceeding.  The assert statements ensure that `features` is a PyTorch tensor with shape `[batch_size, embed_size]`."
   ]
  },
  {
   "cell_type": "markdown",
   "metadata": {},
   "source": [
    "<a id='step4'></a>\n",
    "## Step 4: Implement the RNN Decoder\n",
    "\n",
    "Before executing the next code cell, you must write `__init__` and `forward` methods in the `DecoderRNN` class in **model.py**.  (Do **not** write the `sample` method yet - you will work with this method when you reach **3_Inference.ipynb**.)\n",
    "\n",
    "> The `__init__` and `forward` methods in the `DecoderRNN` class are the only things that you **need** to modify as part of this notebook.  You will write more implementations in the notebooks that appear later in the sequence.\n",
    "\n",
    "Your decoder will be an instance of the `DecoderRNN` class and must accept as input:\n",
    "- the PyTorch tensor `features` containing the embedded image features (outputted in Step 3, when the last batch of images from Step 2 was passed through `encoder`), along with\n",
    "- a PyTorch tensor corresponding to the last batch of captions (`captions`) from Step 2.\n",
    "\n",
    "Note that the way we have written the data loader should simplify your code a bit.  In particular, every training batch will contain pre-processed captions where all have the same length (`captions.shape[1]`), so **you do not need to worry about padding**.  \n",
    "> While you are encouraged to implement the decoder described in [this paper](https://arxiv.org/pdf/1411.4555.pdf), you are welcome to implement any architecture of your choosing, as long as it uses at least one RNN layer, with hidden dimension `hidden_size`.  \n",
    "\n",
    "Although you will test the decoder using the last batch that is currently stored in the notebook, your decoder should be written to accept an arbitrary batch (of embedded image features and pre-processed captions [where all captions have the same length]) as input.  \n",
    "\n",
    "![Decoder](images/decoder.png)\n",
    "\n",
    "In the code cell below, `outputs` should be a PyTorch tensor with size `[batch_size, captions.shape[1], vocab_size]`.  Your output should be designed such that `outputs[i,j,k]` contains the model's predicted score, indicating how likely the `j`-th token in the `i`-th caption in the batch is the `k`-th token in the vocabulary.  In the next notebook of the sequence (**2_Training.ipynb**), we provide code to supply these scores to the [`torch.nn.CrossEntropyLoss`](http://pytorch.org/docs/master/nn.html#torch.nn.CrossEntropyLoss) optimizer in PyTorch."
   ]
  },
  {
   "cell_type": "code",
   "execution_count": 13,
   "metadata": {},
   "outputs": [
    {
     "name": "stdout",
     "output_type": "stream",
     "text": [
      "type(outputs): <class 'torch.Tensor'>\n",
      "outputs.shape: torch.Size([10, 13, 8856])\n"
     ]
    }
   ],
   "source": [
    "# Specify the number of features in the hidden state of the RNN decoder.\n",
    "hidden_size = 512\n",
    "\n",
    "#-#-#-# Do NOT modify the code below this line. #-#-#-#\n",
    "\n",
    "# Store the size of the vocabulary.\n",
    "vocab_size = len(data_loader.dataset.vocab)\n",
    "\n",
    "# Initialize the decoder.\n",
    "decoder = DecoderRNN(embed_size, hidden_size, vocab_size, max_batch_size=batch_size)\n",
    "\n",
    "# Move the decoder to GPU if CUDA is available.\n",
    "decoder.to(device)\n",
    "    \n",
    "# Move last batch of captions (from Step 1) to GPU if CUDA is available \n",
    "captions = captions.to(device)\n",
    "\n",
    "# Pass the encoder output and captions through the decoder.\n",
    "outputs = decoder(features, captions)\n",
    "\n",
    "print('type(outputs):', type(outputs))\n",
    "print('outputs.shape:', outputs.shape)\n",
    "\n",
    "# Check that your decoder satisfies some requirements of the project! :D\n",
    "assert type(outputs)==torch.Tensor, \"Decoder output needs to be a PyTorch Tensor.\"\n",
    "assert (outputs.shape[0]==batch_size) & (outputs.shape[1]==captions.shape[1]) & (outputs.shape[2]==vocab_size), \"The shape of the decoder output is incorrect.\""
   ]
  },
  {
   "cell_type": "markdown",
   "metadata": {},
   "source": [
    "When you train your model in the next notebook in this sequence (**2_Training.ipynb**), you are welcome to tweak the value of `hidden_size`."
   ]
  }
 ],
 "metadata": {
  "anaconda-cloud": {},
  "kernelspec": {
   "display_name": "Python 3",
   "language": "python",
   "name": "python3"
  },
  "language_info": {
   "codemirror_mode": {
    "name": "ipython",
    "version": 3
   },
   "file_extension": ".py",
   "mimetype": "text/x-python",
   "name": "python",
   "nbconvert_exporter": "python",
   "pygments_lexer": "ipython3",
   "version": "3.6.7"
  }
 },
 "nbformat": 4,
 "nbformat_minor": 2
}
